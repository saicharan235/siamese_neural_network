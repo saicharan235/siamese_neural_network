{
 "cells": [
  {
   "cell_type": "code",
   "execution_count": 2,
   "metadata": {},
   "outputs": [],
   "source": [
    "import model\n",
    "import tensorflow as tf\n",
    "import os\n",
    "import numpy as np\n",
    "import data_train_test\n",
    "import matplotlib.pyplot as plt\n"
   ]
  },
  {
   "cell_type": "code",
   "execution_count": 3,
   "metadata": {},
   "outputs": [],
   "source": [
    "gpus = tf.config.experimental.list_physical_devices('GPU')\n",
    "for gpu in gpus:\n",
    "    tf.config.experimental.set_memory_growth(gpu,True)"
   ]
  },
  {
   "cell_type": "code",
   "execution_count": null,
   "metadata": {},
   "outputs": [],
   "source": [
    "\n",
    "siamese = model.make_siamese()\n",
    "binary_cross_entropy = tf.losses.BinaryCrossentropy()\n",
    "opt = tf.keras.optimizers.Adam(0.001)\n",
    "\n",
    "#creating checkpoints\n",
    "filepath = \"\\ml_projects\\smart_attendance\\checkpoints\"\n",
    "if(not os.path.exists(filepath)):\n",
    "    os.makedirs(filepath)\n",
    "checkpoint_prefix = os.path.join(filepath,\"ckpt\")\n",
    "check_point  = tf.train.Checkpoint(opt = opt , siamese = siamese)\n",
    "tf.executing_eagerly()\n",
    "\n",
    "@tf.function\n",
    "def train_step(batch):\n",
    "\n",
    "    with tf.GradientTape() as g:\n",
    "\n",
    "        X = batch[:2]\n",
    "        y = batch[2]\n",
    "\n",
    "        y_hat = siamese(X,training= True)\n",
    "        loss = binary_cross_entropy(y,y_hat)\n",
    "    \n",
    "    gradient = g.gradient(loss,siamese.trainable_variables)\n",
    "    opt.apply_gradients(zip(gradient,siamese.trainable_variables))\n",
    "\n",
    "    return loss\n",
    "\n",
    "def train_model(data,epochs):\n",
    "\n",
    "    for epoch in range(1,epochs+1):\n",
    "        print(\"/n Epoch {}/{}\".format(epoch,epochs))\n",
    "        progbar = tf.keras.utils.Progbar(len(data))\n",
    "        for index,batch in enumerate(data):\n",
    "            train_step(batch)\n",
    "            progbar.update(index+1)\n",
    "        if epoch % 5 == 0:\n",
    "            check_point.save(file_prefix=checkpoint_prefix)\n",
    "\n",
    "\n",
    "data_train,data_test = data_train_test.getting_data()\n",
    "train_model(data_train,50)\n",
    "siamese.save(\"siamese1.h5\")"
   ]
  },
  {
   "cell_type": "code",
   "execution_count": null,
   "metadata": {},
   "outputs": [],
   "source": []
  }
 ],
 "metadata": {
  "kernelspec": {
   "display_name": "Python 3 (ipykernel)",
   "language": "python",
   "name": "python3"
  },
  "language_info": {
   "codemirror_mode": {
    "name": "ipython",
    "version": 3
   },
   "file_extension": ".py",
   "mimetype": "text/x-python",
   "name": "python",
   "nbconvert_exporter": "python",
   "pygments_lexer": "ipython3",
   "version": "3.11.0"
  }
 },
 "nbformat": 4,
 "nbformat_minor": 4
}
